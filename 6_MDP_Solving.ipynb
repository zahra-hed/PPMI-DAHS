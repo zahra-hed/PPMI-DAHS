{
 "cells": [
  {
   "cell_type": "markdown",
   "metadata": {},
   "source": [
    "Part 6. MDP model solving"
   ]
  },
  {
   "cell_type": "code",
   "execution_count": 13,
   "metadata": {},
   "outputs": [],
   "source": [
    "import mdptoolbox, mdptoolbox.example\n",
    "import pandas as pd\n",
    "import numpy as np"
   ]
  },
  {
   "cell_type": "code",
   "execution_count": null,
   "metadata": {},
   "outputs": [],
   "source": [
    "#read probability matrix from part 5\n",
    "P = pd.read_csv(\"dataset/P.csv\")\n",
    "P = P.iloc[:,1:] ## Remove index column\n",
    "P = np.array(P).reshape(3,4,4)\n",
    "\n",
    "P2 = pd.read_csv(\"dataset/P2.csv\")\n",
    "P2 = P2.iloc[:,1:]\n",
    "P2 = np.array(P2).reshape(3,4,4) ## Reshape to (actions × clusters × clusters)\n"
   ]
  },
  {
   "cell_type": "code",
   "execution_count": null,
   "metadata": {},
   "outputs": [],
   "source": [
    "#define the reward function\n",
    "def Reward(k):\n",
    "    R = np.zeros(12).reshape(4,3)\n",
    "    R[:,2] -= k\n",
    "    R[1,:] -= 1\n",
    "    return R\n",
    "\n",
    "\"\"\"R = [\n",
    "    [ 0,  0, -k],  # Cluster 0\n",
    "    [-1, -1, -1-k], # Cluster 1 \n",
    "    [ 0,  0, -k],   # Cluster 2\n",
    "    [ 0,  0, -k]    # Cluster 3\n",
    "]\"\"\""
   ]
  },
  {
   "cell_type": "code",
   "execution_count": null,
   "metadata": {},
   "outputs": [
    {
     "name": "stdout",
     "output_type": "stream",
     "text": [
      "optimal policy when reward is -0.1 is (0, 1, 0, 1) \n",
      "\n",
      "State - Action has policy values as follows \n",
      " [[-1.63161999 -1.63761482 -1.72905749]\n",
      " [-4.17485407 -4.06360818 -4.22286958]\n",
      " [-1.53555504 -1.55681276 -1.68182917]\n",
      " [-1.59913236 -1.53673146 -1.64524798]]\n"
     ]
    }
   ],
   "source": [
    "## Value iteration with transition probabilites = P\n",
    "k = 0.1\n",
    "\n",
    "R = Reward(k)\n",
    "##epsilon -> Convergence threshold\n",
    "mdp_model = mdptoolbox.mdp.ValueIteration(P, R, 0.99, epsilon=0.01, max_iter=10)\n",
    "mdp_model.run()\n",
    "print(f'optimal policy when reward is -{k} is {mdp_model.policy}', \"\\n\")\n",
    "\n",
    "action_value = np.zeros(12).reshape(4,3)\n",
    "for i in range(4):\n",
    "    for j in range(3):\n",
    "        ## @ -> Matrix multiplication (equivalent to np.dot())        \n",
    "        ## Q(i,j) = V(i) + [ Σ P(i'|i,j)*V(i') + R(i,j) ] * γ     \n",
    "        ##[V1, V2, V3, V4] @ [P1, P2, P3, P4] = V1*P1 + V2*P2 + V3*P3 + V4*P4   \n",
    "        action_value[i,j] = mdp_model.V[i] + (np.array(mdp_model.V) @ P[j,i,:] + R[i,j]) * 0.99\n",
    "\n",
    "print(f'State - Action has policy values as follows \\n {action_value}')"
   ]
  },
  {
   "cell_type": "code",
   "execution_count": null,
   "metadata": {},
   "outputs": [
    {
     "name": "stdout",
     "output_type": "stream",
     "text": [
      "optimal policy when reward is -0.1 is (1, 0, 0, 1) \n",
      "\n",
      "State - Action has policy values as follows \n",
      " [[-1.85455622 -1.85239429 -2.01545719]\n",
      " [-4.31171793 -4.35041276 -4.49935547]\n",
      " [-1.80006791 -1.8290447  -1.93274651]\n",
      " [-1.77668853 -1.74108697 -1.86804464]]\n"
     ]
    }
   ],
   "source": [
    "## Value iteration with transition probabilites = P2\n",
    "\n",
    "k = 0.1\n",
    "\n",
    "R = Reward(k)\n",
    "mdp_model = mdptoolbox.mdp.ValueIteration(P2, R, 0.99, epsilon=0.01, max_iter=10)\n",
    "mdp_model.run()\n",
    "print(f'optimal policy when reward is -{k} is {mdp_model.policy}', \"\\n\")\n",
    "\n",
    "action_value = np.zeros(12).reshape(4,3)\n",
    "for i in range(4):\n",
    "    for j in range(3):\n",
    "        action_value[i,j] = mdp_model.V[i] + (np.array(mdp_model.V) @ P2[j,i,:] + R[i,j]) * 0.99\n",
    "\n",
    "print(f'State - Action has policy values as follows \\n {action_value}')"
   ]
  },
  {
   "cell_type": "code",
   "execution_count": 17,
   "metadata": {},
   "outputs": [],
   "source": [
    "#export our results\n",
    "pd.DataFrame(action_value).to_csv(\"action_va.csv\")"
   ]
  }
 ],
 "metadata": {
  "kernelspec": {
   "display_name": "Python 3",
   "language": "python",
   "name": "python3"
  },
  "language_info": {
   "codemirror_mode": {
    "name": "ipython",
    "version": 3
   },
   "file_extension": ".py",
   "mimetype": "text/x-python",
   "name": "python",
   "nbconvert_exporter": "python",
   "pygments_lexer": "ipython3",
   "version": "3.11.4"
  },
  "orig_nbformat": 4
 },
 "nbformat": 4,
 "nbformat_minor": 2
}
